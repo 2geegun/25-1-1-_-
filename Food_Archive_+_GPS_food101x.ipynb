{
  "cells": [
    {
      "cell_type": "code",
      "execution_count": null,
      "metadata": {
        "id": "rtKoGDs7aNIy"
      },
      "outputs": [],
      "source": [
        "!pip install transformers datasets accelerate evaluate torch torchvision"
      ]
    },
    {
      "cell_type": "code",
      "execution_count": null,
      "metadata": {
        "id": "l3nCwHSLdR8U"
      },
      "outputs": [],
      "source": [
        "!pip install --upgrade transformers datasets"
      ]
    },
    {
      "cell_type": "code",
      "source": [
        "import os\n",
        "import shutil\n",
        "import requests\n",
        "\n",
        "cache_dir = os.path.expanduser(\"~/.cache/huggingface/datasets\")\n",
        "if os.path.exists(cache_dir):\n",
        "    shutil.rmtree(cache_dir)\n",
        "\n",
        "current_dir_cache = \"./.cache\"\n",
        "if os.path.exists(current_dir_cache):\n",
        "    print(f\"현재 디렉토리 캐시 폴더 삭제: {current_dir_cache}\")\n",
        "    shutil.rmtree(current_dir_cache)\n",
        "\n",
        "# 다른 필수 라이브러리 설치\n",
        "!pip install transformers datasets accelerate evaluate torch torchvision scikit-learn\n",
        "\n",
        "# Google Drive 마운트\n",
        "from google.colab import drive\n",
        "drive.mount('/content/drive')"
      ],
      "metadata": {
        "id": "hxgoPt08FX7W"
      },
      "execution_count": null,
      "outputs": []
    },
    {
      "cell_type": "code",
      "source": [
        "from transformers import ViTImageProcessor, ViTForImageClassification\n",
        "from PIL import Image\n",
        "import os\n",
        "import shutil\n",
        "import torch\n",
        "import pandas as pd\n",
        "\n",
        "model_name = \"google/vit-base-patch16-224\"\n",
        "processor = ViTImageProcessor.from_pretrained(model_name)\n",
        "model = ViTForImageClassification.from_pretrained(model_name)\n",
        "\n",
        "# 모델의 레이블 정보 확인\n",
        "print(f\"모델의 클래스 수: {len(model.config.id2label)}\")\n",
        "print(f\"모델의 첫 5개 클래스: {list(model.config.id2label.values())[:5]}...\")\n",
        "\n",
        "# classify_and_organize_food_images\n",
        "def classify_and_organize_food_images(image_folder_path, output_base_path):\n",
        "\n",
        "    # 출력 기본 경로가 없으면 생성\n",
        "    if not os.path.exists(output_base_path):\n",
        "        os.makedirs(output_base_path)\n",
        "\n",
        "    # GPU 사용 가능 여부 확인\n",
        "    device = \"cuda\" if torch.cuda.is_available() else \"cpu\"\n",
        "    model.to(device)\n",
        "\n",
        "    # 지정된 이미지 폴더 내의 모든 파일 순회\n",
        "    for filename in os.listdir(image_folder_path):\n",
        "        # 이미지 파일인지 확인 (일반적인 이미지 확장자)\n",
        "        if filename.lower().endswith(('.png', '.jpg', '.jpeg', '.gif', '.bmp')):\n",
        "            image_full_path = os.path.join(image_folder_path, filename)\n",
        "\n",
        "            try:\n",
        "                # 이미지 로드 및 RGB로 변환\n",
        "                image = Image.open(image_full_path).convert(\"RGB\")\n",
        "\n",
        "                # 이미지 전처리 및 모델 예측\n",
        "                inputs = processor(images=image, return_tensors=\"pt\")\n",
        "                inputs = {k: v.to(device) for k, v in inputs.items()}\n",
        "\n",
        "                with torch.no_grad():\n",
        "                    outputs = model(**inputs)\n",
        "                logits = outputs.logits\n",
        "\n",
        "                predicted_class_idx = logits.argmax(-1).item()\n",
        "                predicted_label = model.config.id2label[predicted_class_idx]\n",
        "\n",
        "                output_food_folder = os.path.join(output_base_path, predicted_label)\n",
        "                if not os.path.exists(output_food_folder):\n",
        "                    os.makedirs(output_food_folder)\n",
        "\n",
        "                # 원본 이미지를 예측된 음식 종류 폴더로 복사\n",
        "                shutil.copy(image_full_path, os.path.join(output_food_folder, filename))\n",
        "\n",
        "            except Exception as e:\n",
        "                print(f\"오류 발생 ({filename}): {e}\")\n",
        "\n",
        "my_image_folder = \"/content/drive/MyDrive/ColabNotebooks/MyFoodPhotos_Example\" # 경로 수정하기\n",
        "output_food_classified_folder = \"/content/drive/MyDrive/Food101xOutput\" # 경로 수정하기\n",
        "classify_and_organize_food_images(my_image_folder, output_food_classified_folder)\n",
        "\n",
        "def export_classified_images_to_csv(output_base_path, export_path_csv=\"classified_results.csv\", export_path_xlsx=None):\n",
        "    records = []\n",
        "\n",
        "    for label in os.listdir(output_base_path):\n",
        "        class_folder = os.path.join(output_base_path, label)\n",
        "        if os.path.isdir(class_folder):\n",
        "            for image_file in os.listdir(class_folder):\n",
        "                if image_file.lower().endswith(('.png', '.jpg', '.jpeg', '.gif', '.bmp')):\n",
        "                    full_path = os.path.join(class_folder, image_file)\n",
        "                    records.append({\n",
        "                        \"image_filename\": image_file,\n",
        "                        \"predicted_label\": label,\n",
        "                        \"full_path\": full_path\n",
        "                    })\n",
        "\n",
        "    if records:\n",
        "        df = pd.DataFrame(records)\n",
        "        df.to_csv(export_path_csv, index=False)\n",
        "        print(f\"CSV 파일 저장 완료: {export_path_csv}\")\n",
        "\n",
        "        if export_path_xlsx:\n",
        "            try:\n",
        "                df.to_excel(export_path_xlsx, index=False)\n",
        "            except ImportError:\n",
        "                print(\"XLSX 파일 저장 실패\")\n",
        "    else:\n",
        "        print(\"XLSX 파일 저장 실패\")\n",
        "\n",
        "export_classified_images_to_csv(\n",
        "    output_base_path=output_food_classified_folder,\n",
        "    export_path_csv=\"/content/drive/MyDrive/food101x_classified_summary.csv\", # Drive에 저장될 CSV 파일\n",
        "    export_path_xlsx=\"/content/drive/MyDrive/food101x_classified_summary.xlsx\" # Drive에 저장될 XLSX 파일\n",
        ")\n",
        "print(\"완료\")"
      ],
      "metadata": {
        "id": "r3YWND5SFYE1"
      },
      "execution_count": null,
      "outputs": []
    }
  ],
  "metadata": {
    "colab": {
      "provenance": []
    },
    "kernelspec": {
      "display_name": "Python 3",
      "name": "python3"
    },
    "language_info": {
      "name": "python"
    }
  },
  "nbformat": 4,
  "nbformat_minor": 0
}